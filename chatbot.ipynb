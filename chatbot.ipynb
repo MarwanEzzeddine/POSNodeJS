{
  "nbformat": 4,
  "nbformat_minor": 0,
  "metadata": {
    "colab": {
      "name": "Untitled6.ipynb",
      "provenance": [],
      "authorship_tag": "ABX9TyN5JMzEEJrNrKDu7zGO3J/6",
      "include_colab_link": true
    },
    "kernelspec": {
      "name": "python3",
      "display_name": "Python 3"
    }
  },
  "cells": [
    {
      "cell_type": "markdown",
      "metadata": {
        "id": "view-in-github",
        "colab_type": "text"
      },
      "source": [
        "<a href=\"https://colab.research.google.com/github/MarwanEzzeddine/POSNodeJS/blob/main/chatbot.ipynb\" target=\"_parent\"><img src=\"https://colab.research.google.com/assets/colab-badge.svg\" alt=\"Open In Colab\"/></a>"
      ]
    },
    {
      "cell_type": "code",
      "metadata": {
        "colab": {
          "base_uri": "https://localhost:8080/"
        },
        "id": "hNMiQBJVJWKX",
        "outputId": "a63807aa-e752-43fc-ef67-14e580a443d0"
      },
      "source": [
        "from nltk.tokenize import TreebankWordTokenizer\r\n",
        "l = \"Artificial intelligence is all about applying mathematics\"\r\n",
        "x = \"Can I get the list of restaurants which gives home delivery 12345.\"\r\n",
        "token = TreebankWordTokenizer().tokenize(l)\r\n",
        "token_x = TreebankWordTokenizer().tokenize(x)\r\n",
        "print(token)\r\n",
        "print(token_x)\r\n",
        "output = []\r\n",
        "output = [k for k in token_x if k.isalpha()]\r\n",
        "print(output)"
      ],
      "execution_count": 7,
      "outputs": [
        {
          "output_type": "stream",
          "text": [
            "['Artificial', 'intelligence', 'is', 'all', 'about', 'applying', 'mathematics']\n",
            "['Can', 'I', 'get', 'the', 'list', 'of', 'restaurants', 'which', 'gives', 'home', 'delivery', '12345', '.']\n",
            "['Can', 'I', 'get', 'the', 'list', 'of', 'restaurants', 'which', 'gives', 'home', 'delivery']\n"
          ],
          "name": "stdout"
        }
      ]
    }
  ]
}